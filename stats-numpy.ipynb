{
 "cells": [
  {
   "cell_type": "code",
   "execution_count": null,
   "id": "c3c7a8df-e1e9-46ff-ad0f-895562996634",
   "metadata": {},
   "outputs": [],
   "source": [
    "import numpy as np\n",
    "\n",
    "def calculate(L):\n",
    "    a = np.array(L).reshape(3,3)\n",
    "\n",
    "    mean = [list(np.mean(a, axis=0)), list(np.mean(a, axis=1)), np.mean(a)]\n",
    "    variance = [list(np.var(a, axis=0)), list(np.var(a, axis=1)), np.var(a)]\n",
    "    standard_deviation = [list(np.std(a, axis=0)), list(np.std(a, axis=1)), np.std(a)]\n",
    "    max = [list(np.max(a, axis=0)), list(np.max(a, axis=1)), np.max(a)]\n",
    "    min = [list(np.min(a, axis=0)), list(np.min(a, axis=1)), np.min(a)]\n",
    "    sum = [list(np.sum(a, axis=0)), list(np.sum(a, axis=1)), np.sum(a)]\n",
    "\n",
    "    d = {\n",
    "        'mean':mean, \n",
    "        'variance':variance,\n",
    "        'standard deviation':standard_deviation,\n",
    "        'max':max,\n",
    "        'min':min,\n",
    "        'sum':sum\n",
    "    }\n",
    "    return d\n",
    "\n",
    "try:\n",
    "    print(calculate([1,2,3,4,5,6,7,8,9]))\n",
    "except ValueError as ve:\n",
    "    print(f'The List does not contain 9 elements, Please enter 9 elements')"
   ]
  },
  {
   "cell_type": "code",
   "execution_count": null,
   "id": "8d875b6a-7a64-4729-9236-3c6eb0a1374f",
   "metadata": {},
   "outputs": [],
   "source": []
  }
 ],
 "metadata": {
  "kernelspec": {
   "display_name": "Python 3 (ipykernel)",
   "language": "python",
   "name": "python3"
  },
  "language_info": {
   "codemirror_mode": {
    "name": "ipython",
    "version": 3
   },
   "file_extension": ".py",
   "mimetype": "text/x-python",
   "name": "python",
   "nbconvert_exporter": "python",
   "pygments_lexer": "ipython3",
   "version": "3.11.5"
  }
 },
 "nbformat": 4,
 "nbformat_minor": 5
}
"# stats-numpy" 
